{
 "cells": [
  {
   "cell_type": "code",
   "execution_count": 22,
   "id": "ec7f602c-91de-404c-b451-1ff294d4284b",
   "metadata": {},
   "outputs": [],
   "source": [
    "import numpy as np\n",
    "import tensorflow as tf\n",
    "from tensorflow.keras.datasets import mnist\n",
    "from tensorflow.keras.utils import to_categorical\n"
   ]
  },
  {
   "cell_type": "code",
   "execution_count": 23,
   "id": "c10e19f0-8003-4375-9579-885c8caca64b",
   "metadata": {},
   "outputs": [],
   "source": [
    "# Load MNIST data\n",
    "(x_train, y_train), _ = mnist.load_data()\n",
    "\n",
    "# Normalize and flatten images\n",
    "x_train = x_train.reshape(-1, 784).astype(np.float32) / 255.0\n",
    "y_train = to_categorical(y_train, 10)"
   ]
  },
  {
   "cell_type": "code",
   "execution_count": 24,
   "id": "bb87ed3b-069e-4157-8b05-e16025b656dc",
   "metadata": {},
   "outputs": [],
   "source": [
    "# Model sizes\n",
    "input_size = 784\n",
    "hidden_size = 128\n",
    "output_size = 10\n",
    "batch_size = 64\n",
    "epochs = 5\n",
    "\n",
    "# Softmax with numerical stability\n",
    "def softmax(x):\n",
    "    e_x = tf.exp(x - tf.reduce_max(x, axis=0, keepdims=True))\n",
    "    return e_x / (tf.reduce_sum(e_x, axis=0, keepdims=True) + 1e-9)"
   ]
  },
  {
   "cell_type": "code",
   "execution_count": 25,
   "id": "f7104832-7856-4c3f-b65d-9fb06f0533de",
   "metadata": {},
   "outputs": [],
   "source": [
    "# Initialize weights (TensorFlow variables)\n",
    "tf.random.set_seed(42)\n",
    "W1 = tf.Variable(tf.random.normal((hidden_size, input_size), stddev=0.01))\n",
    "W2 = tf.Variable(tf.random.normal((output_size, hidden_size), stddev=0.01))\n",
    "\n",
    "# Learning rates\n",
    "lr_s = 0.1\n",
    "lr_w = 0.005\n",
    "\n"
   ]
  },
  {
   "cell_type": "code",
   "execution_count": 30,
   "id": "20e7c735-b5ec-4588-b66b-18942d8abcde",
   "metadata": {},
   "outputs": [
    {
     "name": "stdout",
     "output_type": "stream",
     "text": [
      "Epoch 1: Accuracy = 9.96%\n",
      "Epoch 2: Accuracy = 9.87%\n",
      "Epoch 3: Accuracy = 9.87%\n",
      "Epoch 4: Accuracy = 9.87%\n",
      "Epoch 5: Accuracy = 9.87%\n"
     ]
    }
   ],
   "source": [
    "# Training loop\n",
    "for epoch in range(epochs):\n",
    "    total_correct = 0\n",
    "    total_samples = 0\n",
    "\n",
    "    for i in range(0, x_train.shape[0], batch_size):\n",
    "        # Mini-batch\n",
    "        x_batch = x_train[i:i+batch_size].T  # shape: [784, batch]\n",
    "        y_batch = y_train[i:i+batch_size].T  # shape: [10, batch]\n",
    "        bsz = x_batch.shape[1]\n",
    "\n",
    "        # Layer states\n",
    "        x0 = tf.convert_to_tensor(x_batch)\n",
    "        x1 = tf.zeros((hidden_size, bsz))\n",
    "        x2 = tf.zeros((output_size, bsz))\n",
    "\n",
    "        # Predictive coding loop\n",
    "        for step in range(5):\n",
    "            pred_x0 = tf.linalg.matmul(tf.transpose(W1), x1)\n",
    "            pred_x1 = tf.linalg.matmul(tf.transpose(W2), x2)\n",
    "\n",
    "            err_x0 = x0 - pred_x0\n",
    "            err_x1 = x1 - pred_x1\n",
    "            err_x2 = y_batch - softmax(x2)\n",
    "\n",
    "            # 🔧 FIXED: transpose W2 here to avoid shape mismatch\n",
    "            x1 += lr_s * (tf.linalg.matmul(W1, err_x0) - tf.linalg.matmul(tf.transpose(W2), err_x2))\n",
    "            x2 += lr_s * (tf.linalg.matmul(W2, err_x1) + err_x2)\n",
    "\n",
    "            # Weight updates\n",
    "            W1.assign_add(lr_w * tf.matmul(x1, tf.transpose(err_x0)))  # shape: (128, 784)\n",
    "            W2.assign_add(lr_w * tf.matmul(x2, tf.transpose(err_x1)))  # shape: (10, 128)\n",
    "\n",
    "\n",
    "\n",
    "        # Accuracy computation\n",
    "        preds = tf.argmax(softmax(x2), axis=0).numpy()\n",
    "        labels = tf.argmax(y_batch, axis=0).numpy()\n",
    "        acc = np.mean(preds == labels)\n",
    "\n",
    "        total_correct += acc * bsz\n",
    "        total_samples += bsz\n",
    "\n",
    "    print(f\"Epoch {epoch+1}: Accuracy = {(total_correct / total_samples) * 100:.2f}%\")\n"
   ]
  },
  {
   "cell_type": "code",
   "execution_count": 6,
   "id": "ee177263-7adb-4597-9660-3fe5a6417edd",
   "metadata": {},
   "outputs": [],
   "source": []
  }
 ],
 "metadata": {
  "kernelspec": {
   "display_name": "Python 3 (ipykernel)",
   "language": "python",
   "name": "python3"
  },
  "language_info": {
   "codemirror_mode": {
    "name": "ipython",
    "version": 3
   },
   "file_extension": ".py",
   "mimetype": "text/x-python",
   "name": "python",
   "nbconvert_exporter": "python",
   "pygments_lexer": "ipython3",
   "version": "3.8.18"
  }
 },
 "nbformat": 4,
 "nbformat_minor": 5
}
